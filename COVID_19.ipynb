{
  "nbformat": 4,
  "nbformat_minor": 0,
  "metadata": {
    "colab": {
      "name": "COVID-19.ipynb",
      "provenance": [],
      "collapsed_sections": [],
      "authorship_tag": "ABX9TyMjS3fiXWd+I+PB86rHLIyG",
      "include_colab_link": true
    },
    "kernelspec": {
      "name": "python3",
      "display_name": "Python 3"
    }
  },
  "cells": [
    {
      "cell_type": "markdown",
      "metadata": {
        "id": "view-in-github",
        "colab_type": "text"
      },
      "source": [
        "<a href=\"https://colab.research.google.com/github/shruti1610/COVID-19/blob/master/COVID_19.ipynb\" target=\"_parent\"><img src=\"https://colab.research.google.com/assets/colab-badge.svg\" alt=\"Open In Colab\"/></a>"
      ]
    },
    {
      "cell_type": "code",
      "metadata": {
        "id": "PoxSHzjYzd9g",
        "colab_type": "code",
        "colab": {
          "base_uri": "https://localhost:8080/",
          "height": 255
        },
        "outputId": "f22a77b6-bc55-4a1d-80f5-f7655a9d0fdb"
      },
      "source": [
        "from numpy import array\n",
        "from keras.models import Sequential\n",
        "from keras.layers import Dense\n",
        "from keras.layers import SimpleRNN\n",
        "from keras.callbacks import ModelCheckpoint\n",
        "from sklearn.preprocessing import MinMaxScaler\n",
        "import math\n",
        "import numpy as np\n",
        "from sklearn.linear_model import LinearRegression\n",
        "from sklearn import metrics\n",
        "from sklearn.metrics import mean_squared_error\n",
        "import pandas as pd\n",
        "from sklearn.metrics import accuracy_score\n",
        "from sklearn.metrics import confusion_matrix\n",
        "import matplotlib.pylab as plt\n",
        "%matplotlib inline\n",
        "from matplotlib.pylab import rcParams\n",
        "import numpy as np\n",
        "from sklearn.model_selection import train_test_split\n",
        "import warnings\n",
        "import matplotlib.pylab as plt\n",
        "%matplotlib inline\n",
        "from matplotlib.pylab import rcParams\n",
        "from matplotlib import style\n",
        "import datetime\n",
        "import matplotlib.dates\n",
        "from datetime import datetime\n",
        "from __future__ import division\n",
        "\n",
        "urlc = \"https://raw.githubusercontent.com/shruti1610/COVID-19/master/Datasets/Countries-Confirmed.csv\"\n",
        "urld= \"https://raw.githubusercontent.com/shruti1610/COVID-19/master/Datasets/Countries-Deaths.csv\"\n",
        "urlr=\"https://raw.githubusercontent.com/shruti1610/COVID-19/master/Datasets/Countries-Recovered.csv\"\n",
        "data1 = pd.read_csv(urlc, delimiter=',')\n",
        "\n",
        "\n",
        "x= data1['CNTRY_NAME'];\n",
        "y=data1['0529'];\n",
        "\n",
        "data1.head\n",
        "\n",
        "\n",
        "\n"
      ],
      "execution_count": null,
      "outputs": [
        {
          "output_type": "execute_result",
          "data": {
            "text/plain": [
              "<bound method NDFrame.head of               CNTRY_NAME  0131  0229  0331  0430   0529\n",
              "0                  Aruba     0     0     0     0      0\n",
              "1    Antigua and Barbuda     0     0     7    24     25\n",
              "2            Afghanistan     0     1   174  2171  13659\n",
              "3                Algeria     0     1   716  4006   9134\n",
              "4             Azerbaijan     0     0   298  1804   4989\n",
              "..                   ...   ...   ...   ...   ...    ...\n",
              "246        Western Samoa     0     0     0     0      0\n",
              "247            Swaziland     0     0     9   100    279\n",
              "248                Yemen     0     0     0     6    283\n",
              "249               Zambia     0     0    35   106   1057\n",
              "250             Zimbabwe     0     0     8    40    149\n",
              "\n",
              "[251 rows x 6 columns]>"
            ]
          },
          "metadata": {
            "tags": []
          },
          "execution_count": 13
        }
      ]
    },
    {
      "cell_type": "code",
      "metadata": {
        "id": "MwdxJpJNRcF8",
        "colab_type": "code",
        "colab": {
          "base_uri": "https://localhost:8080/",
          "height": 308
        },
        "outputId": "d085f4a8-6841-4ded-bb8f-40b33425cb08"
      },
      "source": [
        "plt.xlabel('CNTRY_NAME')\n",
        "plt.ylabel('date=05/29')\n",
        "plt.plot(x,y)"
      ],
      "execution_count": null,
      "outputs": [
        {
          "output_type": "execute_result",
          "data": {
            "text/plain": [
              "[<matplotlib.lines.Line2D at 0x7f3b381159b0>]"
            ]
          },
          "metadata": {
            "tags": []
          },
          "execution_count": 14
        },
        {
          "output_type": "display_data",
          "data": {
            "image/png": "[encoded data removed]",
            "text/plain": [
              "<Figure size 432x288 with 1 Axes>"
            ]
          },
          "metadata": {
            "tags": [],
            "needs_background": "light"
          }
        }
      ]
    },
    {
      "cell_type": "code",
      "metadata": {
        "id": "TGSXYwCtUQIA",
        "colab_type": "code",
        "colab": {
          "base_uri": "https://localhost:8080/",
          "height": 136
        },
        "outputId": "4691bae4-5943-42fe-a1a9-bb1c0a643b0e"
      },
      "source": [
        "data1.max(numeric_only=True)\n",
        "data1.min()"
      ],
      "execution_count": null,
      "outputs": [
        {
          "output_type": "execute_result",
          "data": {
            "text/plain": [
              "CNTRY_NAME    Afghanistan\n",
              "0131                    0\n",
              "0229                    0\n",
              "0331                    0\n",
              "0430                    0\n",
              "0529                    0\n",
              "dtype: object"
            ]
          },
          "metadata": {
            "tags": []
          },
          "execution_count": 15
        }
      ]
    },
    {
      "cell_type": "code",
      "metadata": {
        "id": "wHB2_Kh1U881",
        "colab_type": "code",
        "colab": {
          "base_uri": "https://localhost:8080/",
          "height": 119
        },
        "outputId": "a5aa76b3-9470-47af-9d84-12d815b1331a"
      },
      "source": [
        "data1.mean(numeric_only=True)"
      ],
      "execution_count": null,
      "outputs": [
        {
          "output_type": "execute_result",
          "data": {
            "text/plain": [
              "0131       39.549801\n",
              "0229      339.864542\n",
              "0331     3413.446215\n",
              "0430    12969.374502\n",
              "0529    23591.537849\n",
              "dtype: float64"
            ]
          },
          "metadata": {
            "tags": []
          },
          "execution_count": 16
        }
      ]
    },
    {
      "cell_type": "code",
      "metadata": {
        "id": "oZGR5krTVF9D",
        "colab_type": "code",
        "colab": {
          "base_uri": "https://localhost:8080/",
          "height": 119
        },
        "outputId": "8383e75e-3d77-41af-f025-50b167939ab5"
      },
      "source": [
        "data1.median(numeric_only=True)"
      ],
      "execution_count": null,
      "outputs": [
        {
          "output_type": "execute_result",
          "data": {
            "text/plain": [
              "0131      0.0\n",
              "0229      0.0\n",
              "0331     28.0\n",
              "0430    205.0\n",
              "0529    671.0\n",
              "dtype: float64"
            ]
          },
          "metadata": {
            "tags": []
          },
          "execution_count": 17
        }
      ]
    },
    {
      "cell_type": "code",
      "metadata": {
        "id": "4rTz3Ql5WMkg",
        "colab_type": "code",
        "colab": {}
      },
      "source": [
        "data= data1.loc[data1['0529'] >= 23592]\n"
      ],
      "execution_count": null,
      "outputs": []
    },
    {
      "cell_type": "code",
      "metadata": {
        "id": "tNQ6riz-W268",
        "colab_type": "code",
        "colab": {
          "base_uri": "https://localhost:8080/",
          "height": 313
        },
        "outputId": "a76a9acb-a3a6-4fb7-e321-023790aa0861"
      },
      "source": [
        "x= data['CNTRY_NAME'];\n",
        "y=data['0529'];\n",
        "plt.title('Confirmed Cases')\n",
        "plt.xlabel('CNTRY_NAME')\n",
        "plt.ylabel('date=05/29')\n",
        "plt.rcParams[\"figure.figsize\"] = [25, 4.8]\n",
        "plt.plot(x,y ,'-ok')"
      ],
      "execution_count": null,
      "outputs": [
        {
          "output_type": "execute_result",
          "data": {
            "text/plain": [
              "[<matplotlib.lines.Line2D at 0x7f3b37daf2b0>]"
            ]
          },
          "metadata": {
            "tags": []
          },
          "execution_count": 19
        },
        {
          "output_type": "display_data",
          "data": {
            "image/png": "[encoded data removed]",
            "text/plain": [
              "<Figure size 432x288 with 1 Axes>"
            ]
          },
          "metadata": {
            "tags": [],
            "needs_background": "light"
          }
        }
      ]
    },
    {
      "cell_type": "code",
      "metadata": {
        "id": "rt5Zs5oidRg8",
        "colab_type": "code",
        "colab": {
          "base_uri": "https://localhost:8080/",
          "height": 136
        },
        "outputId": "2214687a-3a76-4468-c74d-4f258151cef3"
      },
      "source": [
        "from sklearn.cluster import KMeans\n",
        "import numpy as np\n",
        "import pandas as pd\n",
        "import matplotlib.pyplot as plt\n",
        "x = data1.iloc[:, [1,2,3,4,5]].values\n",
        "kmeans = KMeans(n_clusters=2) \n",
        "kmeans.fit(x)\n",
        "y_kmeans = kmeans.predict(x)\n",
        "print(y_kmeans)\n"
      ],
      "execution_count": null,
      "outputs": [
        {
          "output_type": "stream",
          "text": [
            "[0 0 0 0 0 0 0 0 0 0 0 0 0 0 0 0 0 0 0 0 0 0 0 0 0 0 0 0 0 0 0 0 0 0 0 0 0\n",
            " 0 0 0 0 0 0 0 0 0 0 0 0 0 0 0 0 0 0 0 0 0 0 0 0 0 0 0 0 0 0 0 0 0 0 0 0 0\n",
            " 0 0 0 0 0 0 0 0 0 0 0 0 0 0 0 0 0 0 0 0 0 0 0 0 0 0 0 0 0 0 0 0 0 0 0 0 0\n",
            " 0 0 0 0 0 0 0 0 0 0 0 0 0 0 0 0 0 0 0 0 0 0 0 0 0 0 0 0 0 0 0 0 0 0 0 0 0\n",
            " 0 0 0 0 0 0 0 0 0 0 0 0 0 0 0 0 0 0 0 0 0 0 0 0 0 0 0 0 0 0 0 0 0 0 0 0 0\n",
            " 0 0 0 0 0 0 0 0 0 0 0 0 0 0 0 0 0 0 0 0 0 0 0 0 0 0 0 0 0 0 0 0 0 0 0 0 0\n",
            " 0 0 0 0 0 0 0 0 0 0 1 0 0 0 0 0 0 0 0 0 0 0 0 0 0 0 0 0 0]\n"
          ],
          "name": "stdout"
        }
      ]
    },
    {
      "cell_type": "code",
      "metadata": {
        "id": "3_jdo3CBliyc",
        "colab_type": "code",
        "colab": {
          "base_uri": "https://localhost:8080/",
          "height": 85
        },
        "outputId": "aa858aa6-8ce8-4eee-9a6e-965d3d20b1cf"
      },
      "source": [
        "kmeans.cluster_centers_"
      ],
      "execution_count": null,
      "outputs": [
        {
          "output_type": "execute_result",
          "data": {
            "text/plain": [
              "array([[3.9680000e+01, 3.4095200e+02, 2.6744120e+03, 8.7435560e+03,\n",
              "        1.6701828e+04],\n",
              "       [7.0000000e+00, 6.8000000e+01, 1.8817200e+05, 1.0694240e+06,\n",
              "        1.7460190e+06]])"
            ]
          },
          "metadata": {
            "tags": []
          },
          "execution_count": 29
        }
      ]
    },
    {
      "cell_type": "code",
      "metadata": {
        "id": "e5rPco9KlzpB",
        "colab_type": "code",
        "colab": {
          "base_uri": "https://localhost:8080/",
          "height": 339
        },
        "outputId": "d0265985-37b0-49c3-a341-0702177f7414"
      },
      "source": [
        "Error =[]\n",
        "for i in range(1, 11):\n",
        "    kmeans1 = KMeans(n_clusters = i).fit(x)\n",
        "    kmeans1.fit(x)\n",
        "    Error.append(kmeans1.inertia_)\n",
        "import matplotlib.pyplot as plt\n",
        "plt.plot(range(1, 11), Error)\n",
        "plt.title('Elbow method')\n",
        "plt.xlabel('No of clusters')\n",
        "plt.ylabel('Error')\n",
        "plt.show()"
      ],
      "execution_count": null,
      "outputs": [
        {
          "output_type": "display_data",
          "data": {
            "image/png": "[encoded data removed]",
            "text/plain": [
              "<Figure size 1800x345.6 with 1 Axes>"
            ]
          },
          "metadata": {
            "tags": [],
            "needs_background": "light"
          }
        }
      ]
    },
    {
      "cell_type": "code",
      "metadata": {
        "id": "8re3vlH2mFuM",
        "colab_type": "code",
        "colab": {
          "base_uri": "https://localhost:8080/",
          "height": 326
        },
        "outputId": "7c29f207-7dff-4b27-8140-1e76d30566b0"
      },
      "source": [
        "plt.scatter(x[:,0], x[:,1], c=y_kmeans, cmap='rainbow')"
      ],
      "execution_count": null,
      "outputs": [
        {
          "output_type": "execute_result",
          "data": {
            "text/plain": [
              "<matplotlib.collections.PathCollection at 0x7f3b35283c18>"
            ]
          },
          "metadata": {
            "tags": []
          },
          "execution_count": 31
        },
        {
          "output_type": "display_data",
          "data": {
            "image/png": "[encoded data removed]",
            "text/plain": [
              "<Figure size 1800x345.6 with 1 Axes>"
            ]
          },
          "metadata": {
            "tags": [],
            "needs_background": "light"
          }
        }
      ]
    }
  ]
}